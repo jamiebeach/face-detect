{
  "nbformat": 4,
  "nbformat_minor": 0,
  "metadata": {
    "colab": {
      "name": "CV2 Face Detection.ipynb",
      "version": "0.3.2",
      "provenance": [],
      "collapsed_sections": [],
      "include_colab_link": true
    },
    "kernelspec": {
      "name": "python3",
      "display_name": "Python 3"
    }
  },
  "cells": [
    {
      "cell_type": "markdown",
      "metadata": {
        "id": "view-in-github",
        "colab_type": "text"
      },
      "source": [
        "<a href=\"https://colab.research.google.com/github/jamiebeach/face-detect/blob/master/CV2_Face_Detection.ipynb\" target=\"_parent\"><img src=\"https://colab.research.google.com/assets/colab-badge.svg\" alt=\"Open In Colab\"/></a>"
      ]
    },
    {
      "metadata": {
        "id": "TpGTLxx49dF4",
        "colab_type": "text"
      },
      "cell_type": "markdown",
      "source": [
        "# OpenCV2 Face Detect Example\n",
        "\n",
        "\n",
        "This is a Google Collab notebook that uses OpenCV2 to detect faces.\n",
        "The cascade xml file is from the OpenCV github repo here : https://github.com/opencv/opencv/blob/master/data/haarcascades/haarcascade_frontalface_default.xml\n",
        "\n",
        "Run without uploading an image by just cancelling out of the file upload. Otherwise upload a png image. Use smaller images please.\n",
        "\n"
      ]
    },
    {
      "metadata": {
        "id": "tXyzyWa9o5In",
        "colab_type": "code",
        "colab": {}
      },
      "cell_type": "code",
      "source": [
        "#Code\n",
        "\n",
        "print(\"This is a python3 collab notebook to detece faces using opencv\")\n",
        "print(\"The code in this notebook is adapted from the tutorial here : https://realpython.com/face-recognition-with-python/\")\n",
        "\n",
        "import cv2\n",
        "from google.colab import files\n",
        "  \n",
        "def upload_files():\n",
        "  uploaded = files.upload()\n",
        "  for k, v in uploaded.items():\n",
        "    open(k, 'wb').write(v)\n",
        "\n",
        "\n",
        "#the image should be titled image.png\n",
        "\n",
        "upload_files()\n",
        "\n",
        "# Get user supplied values\n",
        "imagePath = \"image.png\"\n",
        "cascPath = \"cascade.xml\"\n",
        "\n",
        "# Create the face cascade\n",
        "faceCascade = cv2.CascadeClassifier(cascPath)\n",
        "\n",
        "# Read the image\n",
        "image = cv2.imread(imagePath)\n",
        "gray = cv2.cvtColor(image, cv2.COLOR_BGR2GRAY)\n",
        "\n",
        "# Detect faces in the image\n",
        "faces = faceCascade.detectMultiScale(\n",
        "    gray,\n",
        "    scaleFactor=1.1,\n",
        "    minNeighbors=5,\n",
        "    minSize=(30, 30),\n",
        "    flags = cv2.CASCADE_SCALE_IMAGE\n",
        ")\n",
        "\n",
        "print(\"Found {0} faces!\".format(len(faces)))\n",
        "\n",
        "# Draw a rectangle around the faces\n",
        "for (x, y, w, h) in faces:\n",
        "    cv2.rectangle(image, (x, y), (x+w, y+h), (0, 255, 0), 2)\n",
        "\n",
        "cv2.imwrite('out.png',image)\n",
        "\n",
        "#uncomment to download the file here.\n",
        "#files.download('out.png')\n"
      ],
      "execution_count": 0,
      "outputs": []
    }
  ]
}